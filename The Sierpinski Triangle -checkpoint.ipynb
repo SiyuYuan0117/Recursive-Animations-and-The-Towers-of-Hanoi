{
 "cells": [
  {
   "cell_type": "markdown",
   "metadata": {},
   "source": [
    "# The Sierpinski Triangle "
   ]
  },
  {
   "cell_type": "markdown",
   "metadata": {},
   "source": [
    "<span style=\"font-size:17px\">\n",
    "Run the following code and enter the questions at the bottom of the code to get the recursive animation of the Sierpinski Triangle.\n",
    "</span>\n",
    "<br>\n",
    "<br>\n",
    "<span style=\"font-size:15px\">\n",
    "You can set the <strong>depth</strong> (1-10) and <strong>color</strong> (RGB format) of the triangle, as well as the <strong>animation speed</strong> (frame rate) at the bottom of the code.\n",
    "<br>\n",
    "<br>\n",
    "In additionIn, the upper left corner of the animation window, I have marked some shortcuts that can modify the animation, including <strong>pause/resume</strong> the animation (space), <strong>increase Speed/decrease Speed</strong> (up/down keys), and the <strong>current frame rate</strong> of the animation, so that you can intuitively see the current generation speed of the triangle.\n",
    "</span>"
   ]
  },
  {
   "cell_type": "code",
   "execution_count": 87,
   "metadata": {},
   "outputs": [
    {
     "name": "stdin",
     "output_type": "stream",
     "text": [
      "Enter a depth (from 1 to 10):  8\n",
      "Enter the triangle color in RGB format (e.g., 0,0,255 for blue):  0\n"
     ]
    },
    {
     "name": "stdout",
     "output_type": "stream",
     "text": [
      "Invalid color input. Using default color: (255, 0, 0)\n"
     ]
    },
    {
     "name": "stdin",
     "output_type": "stream",
     "text": [
      "Enter the animation speed (frames per second, from 1 to 60):  50\n"
     ]
    }
   ],
   "source": [
    "import random, pygame, os\n",
    "\n",
    "# Generate Sierpinski triangle using recursive function\n",
    "# Each triangle is divided into three smaller triangles until the specified depth is reached\n",
    "def make_sierpinski(depth, triangle, triangle_list):\n",
    "    (x0, y0) = triangle[0]\n",
    "    (x1, y1) = triangle[1]\n",
    "    (x2, y2) = triangle[2]\n",
    "    # Base case: if depth is 1, add the current triangle to the list\n",
    "    if depth == 1: \n",
    "        triangle_list.append(triangle)\n",
    "        return\n",
    "    # Calculate midpoints of the sides of the triangle\n",
    "    midpoint_A = (x0 + (x1 - x0) / 2.0, y0)\n",
    "    midpoint_B = (x0 + (x2 - x0) / 2.0, y2 + (y0 - y2) / 2.0)\n",
    "    midpoint_C = (x2 + (x1 - x2) / 2.0, y2 + (y1 - y2) / 2.0)\n",
    "    # Recursively generate the three smaller triangles\n",
    "    make_sierpinski(depth - 1, ((x0, y0), midpoint_A, midpoint_B), triangle_list)\n",
    "    make_sierpinski(depth - 1, (midpoint_A, (x1, y1), midpoint_C), triangle_list)\n",
    "    make_sierpinski(depth - 1, (midpoint_B, midpoint_C, (x2, y2)), triangle_list)\n",
    "\n",
    "# Function to draw the Sierpinski triangle animation\n",
    "def draw_sierpinski(depth=6, color=(0, 0, 0), frames_per_second=30):\n",
    "    dimensions = (900, 862) # Set up display dimensions\n",
    "    background_colour = (255, 255, 255) # Set up display colors\n",
    "    master_triangle = ((50, 800), (850, 800), (450, 62)) # Coordinates of the main triangle\n",
    "    triangle_list = []\n",
    "    make_sierpinski(depth, master_triangle, triangle_list) # Generate the list of triangles using recursion\n",
    "    \n",
    "    # Initialize Pygame and set up the screen\n",
    "    pygame.init()\n",
    "    screen = pygame.display.set_mode(dimensions)\n",
    "    pygame.display.set_caption(\"Sierpinski Triangle Animation\")\n",
    "    screen.fill(background_colour)\n",
    "    pygame.display.flip()\n",
    "    \n",
    "    # Animation variables\n",
    "    number_of_triangles = len(triangle_list)\n",
    "    index = 0\n",
    "    draw_triangle = False # Control whether to draw or pause the animation\n",
    "    keep_running = True\n",
    "    clock = pygame.time.Clock()\n",
    "\n",
    "    # Shortcut keys instruction text\n",
    "    font = pygame.font.SysFont('Arial', 18)\n",
    "    instructions = [\n",
    "        \"Press SPACE to Pause/Resume\",\n",
    "        \"Press UP to Increase Speed\",\n",
    "        \"Press DOWN to Decrease Speed\",\n",
    "        f\"Current FPS: {frames_per_second}\"\n",
    "    ]\n",
    "    \n",
    "    # Main loop to handle events and draw the animation\n",
    "    while keep_running:\n",
    "        for event in pygame.event.get():\n",
    "            if event.type == pygame.QUIT:\n",
    "                keep_running = False\n",
    "            elif event.type == pygame.KEYDOWN:\n",
    "                if event.key == pygame.K_SPACE:\n",
    "                    draw_triangle = not draw_triangle\n",
    "                elif event.key == pygame.K_UP:\n",
    "                    frames_per_second = min(frames_per_second + 10, 60)\n",
    "                elif event.key == pygame.K_DOWN:\n",
    "                    frames_per_second = max(frames_per_second - 10, 1)\n",
    "       \n",
    "        # Draw the next triangle if animation is running\n",
    "        if draw_triangle and index < number_of_triangles:\n",
    "            pygame.draw.polygon(screen, color, triangle_list[index], 1)\n",
    "            pygame.display.update()\n",
    "            clock.tick(frames_per_second)\n",
    "            index += 1\n",
    "\n",
    "        # Update instructions text\n",
    "        screen.fill(background_colour, (0, 0, 300, 80))  # Clear the previous instructions\n",
    "        instructions[3] = f\"Current FPS: {frames_per_second}\"\n",
    "        for i, text in enumerate(instructions):\n",
    "            instruction_surface = font.render(text, True, (0, 0, 0))\n",
    "            screen.blit(instruction_surface, (10, 10 + i * 20))\n",
    "        pygame.display.update()\n",
    "\n",
    "    pygame.quit() # Quit Pygame when done\n",
    "\n",
    "# Function to get user input for depth, color, and speed, and run the animation\n",
    "def run_sierpinski():\n",
    "    min_depth, max_depth = 1, 10\n",
    "    default_depth = 6\n",
    "    default_color = (255, 0, 0) # Default color is red\n",
    "    default_fps = 20\n",
    "    \n",
    "    # Get the depth from the user\n",
    "    try:\n",
    "        depth = int(input(f\"Enter a depth (from {min_depth} to {max_depth}): \"))\n",
    "        assert min_depth <= depth <= max_depth\n",
    "    except:\n",
    "        print(f\"Invalid input. Using default depth: {default_depth}\")\n",
    "        depth = default_depth\n",
    "    \n",
    "    # Get the color from the user\n",
    "    try:\n",
    "        color_input = input(\"Enter the triangle color in RGB format (e.g., 0,0,255 for blue): \")\n",
    "        color = tuple(map(int, color_input.split(',')))\n",
    "        assert len(color) == 3 and all(0 <= c <= 255 for c in color)\n",
    "    except:\n",
    "        print(f\"Invalid color input. Using default color: {default_color}\")\n",
    "        color = default_color\n",
    "    \n",
    "    # Get the animation speed from the user\n",
    "    try:\n",
    "        fps = int(input(\"Enter the animation speed (frames per second, from 1 to 60): \"))\n",
    "        assert 1 <= fps <= 60\n",
    "    except:\n",
    "        print(f\"Invalid FPS input. Using default FPS: {default_fps}\")\n",
    "        fps = default_fps\n",
    "\n",
    "    draw_sierpinski(depth, color, fps) # Run the animation with the user inputs\n",
    "\n",
    "run_sierpinski() # Run the Sierpinski animation"
   ]
  }
 ],
 "metadata": {
  "kernelspec": {
   "display_name": "Python 3 (ipykernel)",
   "language": "python",
   "name": "python3"
  },
  "language_info": {
   "codemirror_mode": {
    "name": "ipython",
    "version": 3
   },
   "file_extension": ".py",
   "mimetype": "text/x-python",
   "name": "python",
   "nbconvert_exporter": "python",
   "pygments_lexer": "ipython3",
   "version": "3.12.7"
  }
 },
 "nbformat": 4,
 "nbformat_minor": 4
}
